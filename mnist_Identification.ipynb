{
  "nbformat": 4,
  "nbformat_minor": 0,
  "metadata": {
    "colab": {
      "provenance": [],
      "gpuType": "V28",
      "authorship_tag": "ABX9TyOWBkd41MtTymSO0XsSxq+I",
      "include_colab_link": true
    },
    "kernelspec": {
      "name": "python3",
      "display_name": "Python 3"
    },
    "language_info": {
      "name": "python"
    },
    "accelerator": "TPU"
  },
  "cells": [
    {
      "cell_type": "markdown",
      "metadata": {
        "id": "view-in-github",
        "colab_type": "text"
      },
      "source": [
        "<a href=\"https://colab.research.google.com/github/Liujing-1016/CNN/blob/main/mnist_Identification.ipynb\" target=\"_parent\"><img src=\"https://colab.research.google.com/assets/colab-badge.svg\" alt=\"Open In Colab\"/></a>"
      ]
    },
    {
      "cell_type": "markdown",
      "source": [
        "Handwritten number identifications"
      ],
      "metadata": {
        "id": "-oUb8jeuytZQ"
      }
    },
    {
      "cell_type": "code",
      "execution_count": 1,
      "metadata": {
        "id": "5DFSz7Xrw6Fi"
      },
      "outputs": [],
      "source": [
        "import torch\n",
        "import torch.nn as nn\n",
        "import torch.nn.functional as F\n",
        "import torch.optim as optim\n",
        "from torch.utils.data import DataLoader\n",
        "from torchvision import datasets, transforms\n",
        "import matplotlib.pyplot as plt\n",
        "import numpy as np\n",
        "import pandas as pd\n",
        "from sklearn.metrics import confusion_matrix\n",
        "%matplotlib inline"
      ]
    },
    {
      "cell_type": "code",
      "source": [
        "# Convert MNIST image files into a tensor of 4-dimensions(height, width, color channel)\n",
        "transform =  transforms.ToTensor()\n"
      ],
      "metadata": {
        "id": "PcVFnsVQ5SIE"
      },
      "execution_count": 2,
      "outputs": []
    },
    {
      "cell_type": "code",
      "source": [
        "#Get training data and test data\n",
        "train_data = datasets.MNIST(root='/cnn_data', train=True, download=True, transform=transform)\n",
        "test_data = datasets.MNIST(root='/cnn_data', train=False, download=True, transform=transform)"
      ],
      "metadata": {
        "id": "uGyyHcAd5oYy"
      },
      "execution_count": 40,
      "outputs": []
    },
    {
      "cell_type": "code",
      "source": [
        "test_data"
      ],
      "metadata": {
        "colab": {
          "base_uri": "https://localhost:8080/"
        },
        "id": "SZgEzZtQ6X6L",
        "outputId": "9a458cf0-4144-404d-b919-c8004fb3e40f"
      },
      "execution_count": 4,
      "outputs": [
        {
          "output_type": "execute_result",
          "data": {
            "text/plain": [
              "Dataset MNIST\n",
              "    Number of datapoints: 10000\n",
              "    Root location: /cnn_data\n",
              "    Split: Test\n",
              "    StandardTransform\n",
              "Transform: ToTensor()"
            ]
          },
          "metadata": {},
          "execution_count": 4
        }
      ]
    },
    {
      "cell_type": "code",
      "source": [
        "# Creata a small batch size for images\n",
        "train_loader = DataLoader(train_data, batch_size=10, shuffle=True)\n",
        "test_loader = DataLoader(test_data, batch_size=10, shuffle=False)"
      ],
      "metadata": {
        "id": "Y9uuYK8d62ni"
      },
      "execution_count": 5,
      "outputs": []
    },
    {
      "cell_type": "code",
      "source": [
        "# Define Our CNN model\n",
        "# Describe convolutional model (2 convolutional layers)\n",
        "\n",
        "conv1= nn.Conv2d(1,6,3,1)\n",
        "conv2= nn.Conv2d(6,16,3,1)"
      ],
      "metadata": {
        "id": "eZkY7Y1i7Iy0"
      },
      "execution_count": 17,
      "outputs": []
    },
    {
      "cell_type": "markdown",
      "source": [
        "* 第一个参数 in_channels：输入通道数。第一个卷积层中的 1 表示输入是单通道（例如灰度图像），而在第二层是 6，表示接受前一层输出的 6 个通道。\n",
        "\n",
        "* 第二个参数 out_channels：输出通道数。第一个卷积层输出 6 个通道，第二个卷积层输出 16 个通道。\n",
        "\n",
        "* 第三个参数 kernel_size：卷积核的大小。这里的 3 表示使用 3x3 的卷积核。\n",
        "\n",
        "* 第四个参数 stride：步长（stride）。这里的 1 表示每次滑动一个像素\n",
        "\n",
        "简而言之，这些代码定义了两个卷积层：第一个从单通道输入生成 6 个特征图，第二个从 6 个输入特征图生成 16 个特征图，卷积核为 3x3，步长为 1。"
      ],
      "metadata": {
        "id": "WZL8jvBv76HR"
      }
    },
    {
      "cell_type": "code",
      "source": [
        "#Grab 1 MNIST record/image\n",
        "for i, (X_Train,y_train) in enumerate(train_data):\n",
        "  break"
      ],
      "metadata": {
        "id": "hr_y7FDo8J3G"
      },
      "execution_count": 7,
      "outputs": []
    },
    {
      "cell_type": "code",
      "source": [
        "X_Train.shape"
      ],
      "metadata": {
        "colab": {
          "base_uri": "https://localhost:8080/"
        },
        "id": "SG0ILCC28ep3",
        "outputId": "638dda72-c84b-4551-a64f-5fae2c640c4b"
      },
      "execution_count": 8,
      "outputs": [
        {
          "output_type": "execute_result",
          "data": {
            "text/plain": [
              "torch.Size([1, 28, 28])"
            ]
          },
          "metadata": {},
          "execution_count": 8
        }
      ]
    },
    {
      "cell_type": "markdown",
      "source": [
        "image size: 28 x 28 pixel"
      ],
      "metadata": {
        "id": "K41-M2WC8uLP"
      }
    },
    {
      "cell_type": "code",
      "source": [
        "x = X_Train.view(1,1,28,28)"
      ],
      "metadata": {
        "id": "Ebq8QicF8yTF"
      },
      "execution_count": 9,
      "outputs": []
    },
    {
      "cell_type": "code",
      "source": [
        "# Perform our first convolution\n",
        "x = F.relu(conv1(x))\n",
        "\n",
        "# pass thru the pooling layer\n",
        "x = F.max_pool2d(x,2,2) # keneal of 2 and stride of 2\n",
        "\n",
        "# Do our secondn convolutional layer\n",
        "x = F.relu(conv2(x))\n",
        "\n",
        "# Pooling layer\n",
        "x = F.max_pool2d(x,2,2)"
      ],
      "metadata": {
        "collapsed": true,
        "id": "VI79yBxZ9B9h"
      },
      "execution_count": 18,
      "outputs": []
    },
    {
      "cell_type": "code",
      "source": [
        "# Model Class\n",
        "class ConvolutionalNetworkModel(nn.Module):\n",
        "  def __init__(self):\n",
        "    super().__init__()\n",
        "    # Convolutional layers\n",
        "    self.conv1 = nn.Conv2d(1,6,3,1)\n",
        "    self.conv2 = nn.Conv2d(6,16,3,1)\n",
        "    # Fully connected layer\n",
        "    self.fc1 = nn.Linear(5*5*16,120)\n",
        "    self.fc2 = nn.Linear(120,84)\n",
        "    self.fc3 = nn.Linear(84,10) # always have to be end at 10\n",
        "\n",
        "  def forward(self, x):\n",
        "    x = F.relu(self.conv1(x))\n",
        "    x = F.max_pool2d(x,2,2)\n",
        "    # second pass\n",
        "    x = F.relu(self.conv2(x))\n",
        "    x = F.max_pool2d(x,2,2)\n",
        "\n",
        "    # review to flatten it out\n",
        "    x = x.view(-1,16*5*5)\n",
        "\n",
        "    # pass through fully connected layer\n",
        "    x = F.relu(self.fc1(x))\n",
        "    x = F.relu(self.fc2(x))\n",
        "    x = self.fc3(x)\n",
        "    return F.log_softmax(x, dim=1)"
      ],
      "metadata": {
        "id": "pwo07e3F9wp3"
      },
      "execution_count": 29,
      "outputs": []
    },
    {
      "cell_type": "code",
      "source": [
        "#Create an Instance of our Model\n",
        "torch.manual_seed(41)\n",
        "model= ConvolutionalNetworkModel()\n",
        "model"
      ],
      "metadata": {
        "colab": {
          "base_uri": "https://localhost:8080/"
        },
        "id": "C4hK3tDRANax",
        "outputId": "27252e1d-6d9f-4233-ee26-834265b56809"
      },
      "execution_count": 30,
      "outputs": [
        {
          "output_type": "execute_result",
          "data": {
            "text/plain": [
              "ConvolutionalNetworkModel(\n",
              "  (conv1): Conv2d(1, 6, kernel_size=(3, 3), stride=(1, 1))\n",
              "  (conv2): Conv2d(6, 16, kernel_size=(3, 3), stride=(1, 1))\n",
              "  (fc1): Linear(in_features=400, out_features=120, bias=True)\n",
              "  (fc2): Linear(in_features=120, out_features=84, bias=True)\n",
              "  (fc3): Linear(in_features=84, out_features=10, bias=True)\n",
              ")"
            ]
          },
          "metadata": {},
          "execution_count": 30
        }
      ]
    },
    {
      "cell_type": "code",
      "source": [
        "# Loss Function Optimizer\n",
        "criterion = nn.CrossEntropyLoss()\n",
        "optimizer = torch.optim.Adam(model.parameters(), lr=0.001)\n",
        "# smaller the learning rate, longer its gonna take\n"
      ],
      "metadata": {
        "id": "GC53g5EWAaCe"
      },
      "execution_count": 31,
      "outputs": []
    },
    {
      "cell_type": "code",
      "source": [
        "import time\n",
        "start_time = time.time()\n",
        "\n",
        "# Create Variable to Tracks Things\n",
        "epochs = 5\n",
        "train_losses = []\n",
        "test_losses = []\n",
        "train_correct = []\n",
        "test_correct = []\n",
        "\n",
        "# For loop of epochs\n",
        "for i in range (epochs):\n",
        "  trn_corr = 0\n",
        "  tst_corr = 0\n",
        "\n",
        "\n",
        "  # Train\n",
        "  for batch, (X_Train, y_train) in enumerate(train_loader):\n",
        "    batch +=1\n",
        "    y_pred = model(X_Train) #Get predicted values from the training set\n",
        "    loss = criterion(y_pred, y_train) # how off are we? compare the predictions\n",
        "\n",
        "    predicted = torch.max(y_pred.data, 1)[1] # add up the number of correct predictions\n",
        "    batch_correct = (predicted == y_train).sum() # how many we got correct from this batch\n",
        "    trn_corr += batch_correct # keep track as we go along in training\n",
        "\n",
        "    # Updata our parameters\n",
        "    optimizer.zero_grad()\n",
        "    loss.backward()\n",
        "    optimizer.step()\n",
        "\n",
        "    #print out some parameters\n",
        "    if batch%600 == 0:\n",
        "      print(f'Epoch:{i}  Batch: {batch}  Loss: {loss.item()}')\n",
        "\n",
        "  train_losses.append(loss)\n",
        "  train_correct.append(trn_corr)\n",
        "\n",
        "  # Test\n",
        "  with torch.no_grad():  # No gradient, we dont update our weights and biases\n",
        "    for batch, (X_test, y_test) in enumerate(test_loader):\n",
        "      batch +=1\n",
        "      y_val = model(X_test)\n",
        "      predicted = torch.max(y_val.data,1)[1]\n",
        "      tst_corr +=(predicted == y_test).sum()\n",
        "\n",
        "  loss = criterion(y_val, y_test)\n",
        "  test_losses.append(loss)\n",
        "  test_correct.append(tst_corr)\n",
        "\n",
        "\n",
        "\n",
        "current_time = time.time()\n",
        "elapsed_time = current_time - start_time\n",
        "print(elapsed_time)"
      ],
      "metadata": {
        "colab": {
          "base_uri": "https://localhost:8080/"
        },
        "collapsed": true,
        "id": "o6rzwBHYAojC",
        "outputId": "80329301-2a9a-4a9d-c4b3-abddda4dc84a"
      },
      "execution_count": 34,
      "outputs": [
        {
          "output_type": "stream",
          "name": "stdout",
          "text": [
            "Epoch:0  Batch: 600  Loss: 0.016775861382484436\n",
            "Epoch:0  Batch: 1200  Loss: 0.0012260200455784798\n",
            "Epoch:0  Batch: 1800  Loss: 0.23763465881347656\n",
            "Epoch:0  Batch: 2400  Loss: 0.008720139041543007\n",
            "Epoch:0  Batch: 3000  Loss: 0.04774046689271927\n",
            "Epoch:0  Batch: 3600  Loss: 7.051449938444421e-05\n",
            "Epoch:0  Batch: 4200  Loss: 4.069479837198742e-05\n",
            "Epoch:0  Batch: 4800  Loss: 9.515947022009641e-05\n",
            "Epoch:0  Batch: 5400  Loss: 0.00788115058094263\n",
            "Epoch:0  Batch: 6000  Loss: 0.000769934500567615\n",
            "Epoch:1  Batch: 600  Loss: 0.03715990483760834\n",
            "Epoch:1  Batch: 1200  Loss: 0.0035042730160057545\n",
            "Epoch:1  Batch: 1800  Loss: 4.8441543185617775e-05\n",
            "Epoch:1  Batch: 2400  Loss: 0.0013030368136242032\n",
            "Epoch:1  Batch: 3000  Loss: 0.13386394083499908\n",
            "Epoch:1  Batch: 3600  Loss: 0.00015225468087010086\n",
            "Epoch:1  Batch: 4200  Loss: 0.018721628934144974\n",
            "Epoch:1  Batch: 4800  Loss: 0.001831273315474391\n",
            "Epoch:1  Batch: 5400  Loss: 0.00798738282173872\n",
            "Epoch:1  Batch: 6000  Loss: 0.02703610435128212\n",
            "Epoch:2  Batch: 600  Loss: 0.00026000532670877874\n",
            "Epoch:2  Batch: 1200  Loss: 0.0517292395234108\n",
            "Epoch:2  Batch: 1800  Loss: 0.000474455242510885\n",
            "Epoch:2  Batch: 2400  Loss: 0.0025959182530641556\n",
            "Epoch:2  Batch: 3000  Loss: 0.00014898435620125383\n",
            "Epoch:2  Batch: 3600  Loss: 8.54922691360116e-05\n",
            "Epoch:2  Batch: 4200  Loss: 6.169386324472725e-05\n",
            "Epoch:2  Batch: 4800  Loss: 0.030904849991202354\n",
            "Epoch:2  Batch: 5400  Loss: 2.9359182008192874e-05\n",
            "Epoch:2  Batch: 6000  Loss: 0.0036738067865371704\n",
            "Epoch:3  Batch: 600  Loss: 0.0001084324176190421\n",
            "Epoch:3  Batch: 1200  Loss: 0.0003721853136084974\n",
            "Epoch:3  Batch: 1800  Loss: 0.012631608173251152\n",
            "Epoch:3  Batch: 2400  Loss: 0.000252648867899552\n",
            "Epoch:3  Batch: 3000  Loss: 9.833545482251793e-05\n",
            "Epoch:3  Batch: 4800  Loss: 0.00039893813664093614\n",
            "Epoch:3  Batch: 5400  Loss: 3.797628960455768e-05\n",
            "Epoch:3  Batch: 6000  Loss: 0.03066534362733364\n",
            "Epoch:4  Batch: 600  Loss: 2.6581674319459125e-05\n",
            "Epoch:4  Batch: 1200  Loss: 0.001979697961360216\n",
            "Epoch:4  Batch: 1800  Loss: 0.002845446113497019\n",
            "Epoch:4  Batch: 2400  Loss: 1.2516209608293138e-05\n",
            "Epoch:4  Batch: 3000  Loss: 0.0017069162568077445\n",
            "Epoch:4  Batch: 3600  Loss: 0.004070668946951628\n",
            "Epoch:4  Batch: 4200  Loss: 0.00020709517411887646\n",
            "Epoch:4  Batch: 4800  Loss: 0.004788985010236502\n",
            "Epoch:4  Batch: 5400  Loss: 0.0012176032178103924\n",
            "Epoch:4  Batch: 6000  Loss: 1.997808794840239e-05\n",
            "290.0795588493347\n"
          ]
        }
      ]
    },
    {
      "cell_type": "code",
      "source": [
        "# Graph the loss at epoch\n",
        "train_losses = [tl.item() for tl in train_losses]\n",
        "plt.plot(train_losses, label = 'training loss')\n",
        "plt.plot(test_losses, label = 'testing loss')\n",
        "plt.title(\"Loss at Epoch\")\n",
        "plt.legend()\n",
        "\n",
        "plt.title(\"Loss at Epoch\")\n",
        "plt.legend()"
      ],
      "metadata": {
        "colab": {
          "base_uri": "https://localhost:8080/",
          "height": 469
        },
        "id": "2wjZwZUdEJ8n",
        "outputId": "82ec82ef-b5e2-4d20-9c2c-3270e760f4e1"
      },
      "execution_count": 35,
      "outputs": [
        {
          "output_type": "execute_result",
          "data": {
            "text/plain": [
              "<matplotlib.legend.Legend at 0x7949fe450f70>"
            ]
          },
          "metadata": {},
          "execution_count": 35
        },
        {
          "output_type": "display_data",
          "data": {
            "text/plain": [
              "<Figure size 640x480 with 1 Axes>"
            ],
            "image/png": "[encoded data removed]"
          },
          "metadata": {}
        }
      ]
    },
    {
      "cell_type": "code",
      "source": [
        "# graph the accuracy at the end of each epoch\n",
        "plt.plot([t/600 for t in train_correct], label = 'training accuracy')\n",
        "plt.plot([t/100 for t in test_correct], label = 'testing accuracy')\n",
        "plt.title(\"Accuracy at Epoch\")\n",
        "plt.legend"
      ],
      "metadata": {
        "colab": {
          "base_uri": "https://localhost:8080/",
          "height": 621
        },
        "collapsed": true,
        "id": "7-nDPgBaEw9Q",
        "outputId": "cd68789c-908c-44a5-a53b-51b5635d6667"
      },
      "execution_count": 36,
      "outputs": [
        {
          "output_type": "execute_result",
          "data": {
            "text/plain": [
              "<function matplotlib.pyplot.legend(*args, **kwargs) -> 'Legend'>"
            ],
            "text/html": [
              "<div style=\"max-width:800px; border: 1px solid var(--colab-border-color);\"><style>\n",
              "      pre.function-repr-contents {\n",
              "        overflow-x: auto;\n",
              "        padding: 8px 12px;\n",
              "        max-height: 500px;\n",
              "      }\n",
              "\n",
              "      pre.function-repr-contents.function-repr-contents-collapsed {\n",
              "        cursor: pointer;\n",
              "        max-height: 100px;\n",
              "      }\n",
              "    </style>\n",
              "    <pre style=\"white-space: initial; background:\n",
              "         var(--colab-secondary-surface-color); padding: 8px 12px;\n",
              "         border-bottom: 1px solid var(--colab-border-color);\"><b>matplotlib.pyplot.legend</b><br/>def legend(*args, **kwargs) -&gt; Legend</pre><pre class=\"function-repr-contents function-repr-contents-collapsed\" style=\"\"><a class=\"filepath\" style=\"display:none\" href=\"#\">/usr/local/lib/python3.10/dist-packages/matplotlib/pyplot.py</a>Place a legend on the Axes.\n",
              "\n",
              "Call signatures::\n",
              "\n",
              "    legend()\n",
              "    legend(handles, labels)\n",
              "    legend(handles=handles)\n",
              "    legend(labels)\n",
              "\n",
              "The call signatures correspond to the following different ways to use\n",
              "this method:\n",
              "\n",
              "**1. Automatic detection of elements to be shown in the legend**\n",
              "\n",
              "The elements to be added to the legend are automatically determined,\n",
              "when you do not pass in any extra arguments.\n",
              "\n",
              "In this case, the labels are taken from the artist. You can specify\n",
              "them either at artist creation or by calling the\n",
              ":meth:`~.Artist.set_label` method on the artist::\n",
              "\n",
              "    ax.plot([1, 2, 3], label=&#x27;Inline label&#x27;)\n",
              "    ax.legend()\n",
              "\n",
              "or::\n",
              "\n",
              "    line, = ax.plot([1, 2, 3])\n",
              "    line.set_label(&#x27;Label via method&#x27;)\n",
              "    ax.legend()\n",
              "\n",
              ".. note::\n",
              "    Specific artists can be excluded from the automatic legend element\n",
              "    selection by using a label starting with an underscore, &quot;_&quot;.\n",
              "    A string starting with an underscore is the default label for all\n",
              "    artists, so calling `.Axes.legend` without any arguments and\n",
              "    without setting the labels manually will result in no legend being\n",
              "    drawn.\n",
              "\n",
              "\n",
              "**2. Explicitly listing the artists and labels in the legend**\n",
              "\n",
              "For full control of which artists have a legend entry, it is possible\n",
              "to pass an iterable of legend artists followed by an iterable of\n",
              "legend labels respectively::\n",
              "\n",
              "    ax.legend([line1, line2, line3], [&#x27;label1&#x27;, &#x27;label2&#x27;, &#x27;label3&#x27;])\n",
              "\n",
              "\n",
              "**3. Explicitly listing the artists in the legend**\n",
              "\n",
              "This is similar to 2, but the labels are taken from the artists&#x27;\n",
              "label properties. Example::\n",
              "\n",
              "    line1, = ax.plot([1, 2, 3], label=&#x27;label1&#x27;)\n",
              "    line2, = ax.plot([1, 2, 3], label=&#x27;label2&#x27;)\n",
              "    ax.legend(handles=[line1, line2])\n",
              "\n",
              "\n",
              "**4. Labeling existing plot elements**\n",
              "\n",
              ".. admonition:: Discouraged\n",
              "\n",
              "    This call signature is discouraged, because the relation between\n",
              "    plot elements and labels is only implicit by their order and can\n",
              "    easily be mixed up.\n",
              "\n",
              "To make a legend for all artists on an Axes, call this function with\n",
              "an iterable of strings, one for each legend item. For example::\n",
              "\n",
              "    ax.plot([1, 2, 3])\n",
              "    ax.plot([5, 6, 7])\n",
              "    ax.legend([&#x27;First line&#x27;, &#x27;Second line&#x27;])\n",
              "\n",
              "\n",
              "Parameters\n",
              "----------\n",
              "handles : sequence of (`.Artist` or tuple of `.Artist`), optional\n",
              "    A list of Artists (lines, patches) to be added to the legend.\n",
              "    Use this together with *labels*, if you need full control on what\n",
              "    is shown in the legend and the automatic mechanism described above\n",
              "    is not sufficient.\n",
              "\n",
              "    The length of handles and labels should be the same in this\n",
              "    case. If they are not, they are truncated to the smaller length.\n",
              "\n",
              "    If an entry contains a tuple, then the legend handler for all Artists in the\n",
              "    tuple will be placed alongside a single label.\n",
              "\n",
              "labels : list of str, optional\n",
              "    A list of labels to show next to the artists.\n",
              "    Use this together with *handles*, if you need full control on what\n",
              "    is shown in the legend and the automatic mechanism described above\n",
              "    is not sufficient.\n",
              "\n",
              "Returns\n",
              "-------\n",
              "`~matplotlib.legend.Legend`\n",
              "\n",
              "Other Parameters\n",
              "----------------\n",
              "\n",
              "loc : str or pair of floats, default: :rc:`legend.loc`\n",
              "    The location of the legend.\n",
              "\n",
              "    The strings ``&#x27;upper left&#x27;``, ``&#x27;upper right&#x27;``, ``&#x27;lower left&#x27;``,\n",
              "    ``&#x27;lower right&#x27;`` place the legend at the corresponding corner of the\n",
              "    axes.\n",
              "\n",
              "    The strings ``&#x27;upper center&#x27;``, ``&#x27;lower center&#x27;``, ``&#x27;center left&#x27;``,\n",
              "    ``&#x27;center right&#x27;`` place the legend at the center of the corresponding edge\n",
              "    of the axes.\n",
              "\n",
              "    The string ``&#x27;center&#x27;`` places the legend at the center of the axes.\n",
              "\n",
              "    The string ``&#x27;best&#x27;`` places the legend at the location, among the nine\n",
              "    locations defined so far, with the minimum overlap with other drawn\n",
              "    artists.  This option can be quite slow for plots with large amounts of\n",
              "    data; your plotting speed may benefit from providing a specific location.\n",
              "\n",
              "    The location can also be a 2-tuple giving the coordinates of the lower-left\n",
              "    corner of the legend in axes coordinates (in which case *bbox_to_anchor*\n",
              "    will be ignored).\n",
              "\n",
              "    For back-compatibility, ``&#x27;center right&#x27;`` (but no other location) can also\n",
              "    be spelled ``&#x27;right&#x27;``, and each &quot;string&quot; location can also be given as a\n",
              "    numeric value:\n",
              "\n",
              "    ==================   =============\n",
              "    Location String      Location Code\n",
              "    ==================   =============\n",
              "    &#x27;best&#x27; (Axes only)   0\n",
              "    &#x27;upper right&#x27;        1\n",
              "    &#x27;upper left&#x27;         2\n",
              "    &#x27;lower left&#x27;         3\n",
              "    &#x27;lower right&#x27;        4\n",
              "    &#x27;right&#x27;              5\n",
              "    &#x27;center left&#x27;        6\n",
              "    &#x27;center right&#x27;       7\n",
              "    &#x27;lower center&#x27;       8\n",
              "    &#x27;upper center&#x27;       9\n",
              "    &#x27;center&#x27;             10\n",
              "    ==================   =============\n",
              "    \n",
              "bbox_to_anchor : `.BboxBase`, 2-tuple, or 4-tuple of floats\n",
              "    Box that is used to position the legend in conjunction with *loc*.\n",
              "    Defaults to `axes.bbox` (if called as a method to `.Axes.legend`) or\n",
              "    `figure.bbox` (if `.Figure.legend`).  This argument allows arbitrary\n",
              "    placement of the legend.\n",
              "\n",
              "    Bbox coordinates are interpreted in the coordinate system given by\n",
              "    *bbox_transform*, with the default transform\n",
              "    Axes or Figure coordinates, depending on which ``legend`` is called.\n",
              "\n",
              "    If a 4-tuple or `.BboxBase` is given, then it specifies the bbox\n",
              "    ``(x, y, width, height)`` that the legend is placed in.\n",
              "    To put the legend in the best location in the bottom right\n",
              "    quadrant of the axes (or figure)::\n",
              "\n",
              "        loc=&#x27;best&#x27;, bbox_to_anchor=(0.5, 0., 0.5, 0.5)\n",
              "\n",
              "    A 2-tuple ``(x, y)`` places the corner of the legend specified by *loc* at\n",
              "    x, y.  For example, to put the legend&#x27;s upper right-hand corner in the\n",
              "    center of the axes (or figure) the following keywords can be used::\n",
              "\n",
              "        loc=&#x27;upper right&#x27;, bbox_to_anchor=(0.5, 0.5)\n",
              "\n",
              "ncols : int, default: 1\n",
              "    The number of columns that the legend has.\n",
              "\n",
              "    For backward compatibility, the spelling *ncol* is also supported\n",
              "    but it is discouraged. If both are given, *ncols* takes precedence.\n",
              "\n",
              "prop : None or `~matplotlib.font_manager.FontProperties` or dict\n",
              "    The font properties of the legend. If None (default), the current\n",
              "    :data:`matplotlib.rcParams` will be used.\n",
              "\n",
              "fontsize : int or {&#x27;xx-small&#x27;, &#x27;x-small&#x27;, &#x27;small&#x27;, &#x27;medium&#x27;, &#x27;large&#x27;, &#x27;x-large&#x27;, &#x27;xx-large&#x27;}\n",
              "    The font size of the legend. If the value is numeric the size will be the\n",
              "    absolute font size in points. String values are relative to the current\n",
              "    default font size. This argument is only used if *prop* is not specified.\n",
              "\n",
              "labelcolor : str or list, default: :rc:`legend.labelcolor`\n",
              "    The color of the text in the legend. Either a valid color string\n",
              "    (for example, &#x27;red&#x27;), or a list of color strings. The labelcolor can\n",
              "    also be made to match the color of the line or marker using &#x27;linecolor&#x27;,\n",
              "    &#x27;markerfacecolor&#x27; (or &#x27;mfc&#x27;), or &#x27;markeredgecolor&#x27; (or &#x27;mec&#x27;).\n",
              "\n",
              "    Labelcolor can be set globally using :rc:`legend.labelcolor`. If None,\n",
              "    use :rc:`text.color`.\n",
              "\n",
              "numpoints : int, default: :rc:`legend.numpoints`\n",
              "    The number of marker points in the legend when creating a legend\n",
              "    entry for a `.Line2D` (line).\n",
              "\n",
              "scatterpoints : int, default: :rc:`legend.scatterpoints`\n",
              "    The number of marker points in the legend when creating\n",
              "    a legend entry for a `.PathCollection` (scatter plot).\n",
              "\n",
              "scatteryoffsets : iterable of floats, default: ``[0.375, 0.5, 0.3125]``\n",
              "    The vertical offset (relative to the font size) for the markers\n",
              "    created for a scatter plot legend entry. 0.0 is at the base the\n",
              "    legend text, and 1.0 is at the top. To draw all markers at the\n",
              "    same height, set to ``[0.5]``.\n",
              "\n",
              "markerscale : float, default: :rc:`legend.markerscale`\n",
              "    The relative size of legend markers compared to the originally drawn ones.\n",
              "\n",
              "markerfirst : bool, default: True\n",
              "    If *True*, legend marker is placed to the left of the legend label.\n",
              "    If *False*, legend marker is placed to the right of the legend label.\n",
              "\n",
              "reverse : bool, default: False\n",
              "    If *True*, the legend labels are displayed in reverse order from the input.\n",
              "    If *False*, the legend labels are displayed in the same order as the input.\n",
              "\n",
              "    .. versionadded:: 3.7\n",
              "\n",
              "frameon : bool, default: :rc:`legend.frameon`\n",
              "    Whether the legend should be drawn on a patch (frame).\n",
              "\n",
              "fancybox : bool, default: :rc:`legend.fancybox`\n",
              "    Whether round edges should be enabled around the `.FancyBboxPatch` which\n",
              "    makes up the legend&#x27;s background.\n",
              "\n",
              "shadow : None, bool or dict, default: :rc:`legend.shadow`\n",
              "    Whether to draw a shadow behind the legend.\n",
              "    The shadow can be configured using `.Patch` keywords.\n",
              "    Customization via :rc:`legend.shadow` is currently not supported.\n",
              "\n",
              "framealpha : float, default: :rc:`legend.framealpha`\n",
              "    The alpha transparency of the legend&#x27;s background.\n",
              "    If *shadow* is activated and *framealpha* is ``None``, the default value is\n",
              "    ignored.\n",
              "\n",
              "facecolor : &quot;inherit&quot; or color, default: :rc:`legend.facecolor`\n",
              "    The legend&#x27;s background color.\n",
              "    If ``&quot;inherit&quot;``, use :rc:`axes.facecolor`.\n",
              "\n",
              "edgecolor : &quot;inherit&quot; or color, default: :rc:`legend.edgecolor`\n",
              "    The legend&#x27;s background patch edge color.\n",
              "    If ``&quot;inherit&quot;``, use take :rc:`axes.edgecolor`.\n",
              "\n",
              "mode : {&quot;expand&quot;, None}\n",
              "    If *mode* is set to ``&quot;expand&quot;`` the legend will be horizontally\n",
              "    expanded to fill the axes area (or *bbox_to_anchor* if defines\n",
              "    the legend&#x27;s size).\n",
              "\n",
              "bbox_transform : None or `~matplotlib.transforms.Transform`\n",
              "    The transform for the bounding box (*bbox_to_anchor*). For a value\n",
              "    of ``None`` (default) the Axes&#x27;\n",
              "    :data:`~matplotlib.axes.Axes.transAxes` transform will be used.\n",
              "\n",
              "title : str or None\n",
              "    The legend&#x27;s title. Default is no title (``None``).\n",
              "\n",
              "title_fontproperties : None or `~matplotlib.font_manager.FontProperties` or dict\n",
              "    The font properties of the legend&#x27;s title. If None (default), the\n",
              "    *title_fontsize* argument will be used if present; if *title_fontsize* is\n",
              "    also None, the current :rc:`legend.title_fontsize` will be used.\n",
              "\n",
              "title_fontsize : int or {&#x27;xx-small&#x27;, &#x27;x-small&#x27;, &#x27;small&#x27;, &#x27;medium&#x27;, &#x27;large&#x27;, &#x27;x-large&#x27;, &#x27;xx-large&#x27;}, default: :rc:`legend.title_fontsize`\n",
              "    The font size of the legend&#x27;s title.\n",
              "    Note: This cannot be combined with *title_fontproperties*. If you want\n",
              "    to set the fontsize alongside other font properties, use the *size*\n",
              "    parameter in *title_fontproperties*.\n",
              "\n",
              "alignment : {&#x27;center&#x27;, &#x27;left&#x27;, &#x27;right&#x27;}, default: &#x27;center&#x27;\n",
              "    The alignment of the legend title and the box of entries. The entries\n",
              "    are aligned as a single block, so that markers always lined up.\n",
              "\n",
              "borderpad : float, default: :rc:`legend.borderpad`\n",
              "    The fractional whitespace inside the legend border, in font-size units.\n",
              "\n",
              "labelspacing : float, default: :rc:`legend.labelspacing`\n",
              "    The vertical space between the legend entries, in font-size units.\n",
              "\n",
              "handlelength : float, default: :rc:`legend.handlelength`\n",
              "    The length of the legend handles, in font-size units.\n",
              "\n",
              "handleheight : float, default: :rc:`legend.handleheight`\n",
              "    The height of the legend handles, in font-size units.\n",
              "\n",
              "handletextpad : float, default: :rc:`legend.handletextpad`\n",
              "    The pad between the legend handle and text, in font-size units.\n",
              "\n",
              "borderaxespad : float, default: :rc:`legend.borderaxespad`\n",
              "    The pad between the axes and legend border, in font-size units.\n",
              "\n",
              "columnspacing : float, default: :rc:`legend.columnspacing`\n",
              "    The spacing between columns, in font-size units.\n",
              "\n",
              "handler_map : dict or None\n",
              "    The custom dictionary mapping instances or types to a legend\n",
              "    handler. This *handler_map* updates the default handler map\n",
              "    found at `matplotlib.legend.Legend.get_legend_handler_map`.\n",
              "\n",
              "draggable : bool, default: False\n",
              "    Whether the legend can be dragged with the mouse.\n",
              "\n",
              "\n",
              "See Also\n",
              "--------\n",
              ".Figure.legend\n",
              "\n",
              "Notes\n",
              "-----\n",
              "Some artists are not supported by this function.  See\n",
              ":ref:`legend_guide` for details.\n",
              "\n",
              "Examples\n",
              "--------\n",
              ".. plot:: gallery/text_labels_and_annotations/legend.py</pre>\n",
              "      <script>\n",
              "      if (google.colab.kernel.accessAllowed && google.colab.files && google.colab.files.view) {\n",
              "        for (const element of document.querySelectorAll('.filepath')) {\n",
              "          element.style.display = 'block'\n",
              "          element.onclick = (event) => {\n",
              "            event.preventDefault();\n",
              "            event.stopPropagation();\n",
              "            google.colab.files.view(element.textContent, 3370);\n",
              "          };\n",
              "        }\n",
              "      }\n",
              "      for (const element of document.querySelectorAll('.function-repr-contents')) {\n",
              "        element.onclick = (event) => {\n",
              "          event.preventDefault();\n",
              "          event.stopPropagation();\n",
              "          element.classList.toggle('function-repr-contents-collapsed');\n",
              "        };\n",
              "      }\n",
              "      </script>\n",
              "      </div>"
            ]
          },
          "metadata": {},
          "execution_count": 36
        },
        {
          "output_type": "display_data",
          "data": {
            "text/plain": [
              "<Figure size 640x480 with 1 Axes>"
            ],
            "image/png": "[encoded data removed]"
          },
          "metadata": {}
        }
      ]
    },
    {
      "cell_type": "code",
      "source": [
        "# Correct percentage\n",
        "test_load_everything = DataLoader(test_data, batch_size=10000, shuffle=False)\n",
        "\n",
        "with torch.no_grad():\n",
        "  correct = 0\n",
        "  for batch, (X_test, y_test) in enumerate(test_load_everything):\n",
        "    y_pred = model(X_test)\n",
        "    predicted = torch.max(y_pred.data, 1)[1]\n",
        "    correct += (predicted ==y_test).sum()\n",
        "\n",
        "correct.item()/len(test_data)*100"
      ],
      "metadata": {
        "id": "reXh18e3FtQi",
        "colab": {
          "base_uri": "https://localhost:8080/"
        },
        "outputId": "6d65da8d-a614-4235-cb06-78b22a3c176f"
      },
      "execution_count": 37,
      "outputs": [
        {
          "output_type": "execute_result",
          "data": {
            "text/plain": [
              "98.63"
            ]
          },
          "metadata": {},
          "execution_count": 37
        }
      ]
    },
    {
      "cell_type": "code",
      "source": [
        "# Send new image thru the model\n",
        "test_data[4143] # tensor\n",
        "# Grab just the data\n",
        "test_data[4143][0]\n",
        "test_data[4143][0].reshape(28,28)\n",
        "\n",
        "# show the image\n",
        "plt.imshow(test_data[4143][0].reshape(28,28), cmap='Greys')"
      ],
      "metadata": {
        "colab": {
          "base_uri": "https://localhost:8080/",
          "height": 447
        },
        "collapsed": true,
        "id": "Uz3QCGy3GPCe",
        "outputId": "cadb9d74-ced5-4d42-fdb9-94dd701cf5bc"
      },
      "execution_count": 38,
      "outputs": [
        {
          "output_type": "execute_result",
          "data": {
            "text/plain": [
              "<matplotlib.image.AxesImage at 0x7949e10c1210>"
            ]
          },
          "metadata": {},
          "execution_count": 38
        },
        {
          "output_type": "display_data",
          "data": {
            "text/plain": [
              "<Figure size 640x480 with 1 Axes>"
            ],
            "image/png": "[encoded data removed]"
          },
          "metadata": {}
        }
      ]
    },
    {
      "cell_type": "code",
      "source": [
        "# Pass the image thru our model\n",
        "model.eval()\n",
        "with torch.no_grad():\n",
        "  new_prediction = model(test_data[4143][0].view(1,1,28,28)) #batch size of 1, 1 color channel\n",
        "\n",
        "# Get probabilities of all numbers\n",
        "new_prediction\n",
        "\n",
        "# Get the predicted number : the biggest p of numbers\n",
        "new_prediction.argmax()"
      ],
      "metadata": {
        "id": "zRETWGUfHCfq",
        "colab": {
          "base_uri": "https://localhost:8080/"
        },
        "outputId": "f7f1e34f-8024-4ddc-b40b-9f18fd7cadf0"
      },
      "execution_count": 39,
      "outputs": [
        {
          "output_type": "execute_result",
          "data": {
            "text/plain": [
              "tensor(9)"
            ]
          },
          "metadata": {},
          "execution_count": 39
        }
      ]
    },
    {
      "cell_type": "code",
      "source": [],
      "metadata": {
        "id": "M1p43RYNGdQI"
      },
      "execution_count": null,
      "outputs": []
    }
  ]
}